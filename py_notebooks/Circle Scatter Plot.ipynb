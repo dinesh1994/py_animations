{
 "cells": [
  {
   "cell_type": "code",
   "execution_count": 1,
   "metadata": {},
   "outputs": [],
   "source": [
    "import numpy as np\n",
    "from matplotlib import pyplot as plt\n",
    "import matplotlib.cm as cm\n",
    "%matplotlib inline"
   ]
  },
  {
   "cell_type": "code",
   "execution_count": 2,
   "metadata": {},
   "outputs": [],
   "source": [
    "# generate some random data\n",
    "npoints = 5\n",
    "x = np.ar\n",
    "y = np.random.randn(npoints)"
   ]
  },
  {
   "cell_type": "code",
   "execution_count": 3,
   "metadata": {},
   "outputs": [],
   "source": [
    "# make the size proportional to the distance from the origin\n",
    "s = [0.1*np.linalg.norm([a, b]) for a, b in zip(x, y)]\n",
    "s = [a / max(s) for a in s]  # scale"
   ]
  },
  {
   "cell_type": "code",
   "execution_count": 4,
   "metadata": {},
   "outputs": [],
   "source": [
    "# set color based on size\n",
    "c = s\n",
    "colors = [cm.jet(color) for color in c]  # gets the RGBA values from a float"
   ]
  },
  {
   "cell_type": "code",
   "execution_count": 13,
   "metadata": {},
   "outputs": [
    {
     "data": {
      "image/png": "[encoded data removed]",
      "text/plain": [
       "<Figure size 432x288 with 2 Axes>"
      ]
     },
     "metadata": {
      "needs_background": "light"
     },
     "output_type": "display_data"
    }
   ],
   "source": [
    "# create a new figure\n",
    "plt.figure()\n",
    "ax = plt.gca()\n",
    "i = 1\n",
    "for a, b, color, size in zip(x, y, colors, s):\n",
    "    # plot circles using the RGBA colors\n",
    "    circle = plt.Circle((a, b), size, color=color, fill=False)\n",
    "    if i==1:\n",
    "        ax.add_artist(circle)\n",
    "    i+=1\n",
    "\n",
    "# you may need to adjust the lims based on your data\n",
    "minxy = 1.5*min(min(x), min(y))\n",
    "maxxy = 1.5*max(max(x), max(y))\n",
    "plt.xlim([minxy, maxxy])\n",
    "plt.ylim([minxy, maxxy])\n",
    "ax.set_aspect(1.0)  # make aspect ratio square\n",
    "\n",
    "# plot the scatter plot\n",
    "plt.scatter(x,y,s=0, c=c, cmap='jet', facecolors='none')\n",
    "plt.grid()\n",
    "plt.colorbar()  # this works because of the scatter\n",
    "plt.show()"
   ]
  },
  {
   "cell_type": "code",
   "execution_count": 9,
   "metadata": {},
   "outputs": [
    {
     "name": "stdout",
     "output_type": "stream",
     "text": [
      "1.1809954058554843 -0.09564174234906431 [ 1.18099541  1.59830025 -1.45053046 -0.96008511 -0.55924499] [-0.09564174 -0.89554419  0.29139919  0.65964321  0.19471957]\n",
      "1.5983002539477524 -0.8955441890167213 [ 1.18099541  1.59830025 -1.45053046 -0.96008511 -0.55924499] [-0.09564174 -0.89554419  0.29139919  0.65964321  0.19471957]\n",
      "-1.4505304648822497 0.2913991879861363 [ 1.18099541  1.59830025 -1.45053046 -0.96008511 -0.55924499] [-0.09564174 -0.89554419  0.29139919  0.65964321  0.19471957]\n",
      "-0.9600851109465295 0.6596432085518589 [ 1.18099541  1.59830025 -1.45053046 -0.96008511 -0.55924499] [-0.09564174 -0.89554419  0.29139919  0.65964321  0.19471957]\n",
      "-0.5592449854341248 0.19471957133001144 [ 1.18099541  1.59830025 -1.45053046 -0.96008511 -0.55924499] [-0.09564174 -0.89554419  0.29139919  0.65964321  0.19471957]\n"
     ]
    }
   ],
   "source": [
    "for a, b, color, size in zip(x, y, colors, s):\n",
    "    print(a,b,x,y)"
   ]
  },
  {
   "cell_type": "code",
   "execution_count": 10,
   "metadata": {},
   "outputs": [],
   "source": []
  },
  {
   "cell_type": "code",
   "execution_count": 11,
   "metadata": {},
   "outputs": [
    {
     "data": {
      "text/plain": [
       "<matplotlib.patches.Circle at 0x10b93bfd0>"
      ]
     },
     "execution_count": 11,
     "metadata": {},
     "output_type": "execute_result"
    }
   ],
   "source": []
  },
  {
   "cell_type": "code",
   "execution_count": 12,
   "metadata": {},
   "outputs": [
    {
     "data": {
      "image/png": "[encoded data removed]",
      "text/plain": [
       "<Figure size 432x288 with 2 Axes>"
      ]
     },
     "metadata": {
      "needs_background": "light"
     },
     "output_type": "display_data"
    }
   ],
   "source": []
  },
  {
   "cell_type": "code",
   "execution_count": null,
   "metadata": {},
   "outputs": [],
   "source": []
  }
 ],
 "metadata": {
  "kernelspec": {
   "display_name": "Python 3",
   "language": "python",
   "name": "python3"
  },
  "language_info": {
   "codemirror_mode": {
    "name": "ipython",
    "version": 3
   },
   "file_extension": ".py",
   "mimetype": "text/x-python",
   "name": "python",
   "nbconvert_exporter": "python",
   "pygments_lexer": "ipython3",
   "version": "3.7.4"
  }
 },
 "nbformat": 4,
 "nbformat_minor": 2
}
