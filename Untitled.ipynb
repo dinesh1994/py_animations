{
 "cells": [
  {
   "cell_type": "code",
   "execution_count": 1,
   "metadata": {},
   "outputs": [],
   "source": [
    "from mayavi import mlab\n",
    "from tvtk.tools import visual\n",
    "\n",
    "# Create a figure\n",
    "f = mlab.figure(size=(500,500))\n",
    "# Tell visual to use this as the viewer.\n",
    "visual.set_viewer(f)"
   ]
  },
  {
   "cell_type": "code",
   "execution_count": 2,
   "metadata": {},
   "outputs": [
    {
     "data": {
      "text/plain": [
       "<mayavi.modules.surface.Surface at 0x121db0308>"
      ]
     },
     "execution_count": 2,
     "metadata": {},
     "output_type": "execute_result"
    }
   ],
   "source": [
    "# A silly visualization.\n",
    "mlab.test_plot3d()"
   ]
  },
  {
   "cell_type": "code",
   "execution_count": 6,
   "metadata": {},
   "outputs": [],
   "source": [
    "# Even sillier animation.\n",
    "b1 = visual.box()\n",
    "b2 = visual.box(x=4., color=(1.0,0.0,0.0))\n",
    "b3 = visual.box(x=-4, color=(1.0,0.0,0.0))\n",
    "b1.v = 5.0"
   ]
  },
  {
   "cell_type": "code",
   "execution_count": 8,
   "metadata": {},
   "outputs": [],
   "source": [
    "@mlab.show\n",
    "@mlab.animate(delay=250)\n",
    "def anim():\n",
    "    \"\"\"Animate the b1 box.\"\"\"\n",
    "    while 1:\n",
    "        b1.x = b1.x + b1.v*0.1\n",
    "        if b1.x > 2.5 or b1.x < -2.5:\n",
    "            b1.v = -b1.v\n",
    "        yield"
   ]
  },
  {
   "cell_type": "code",
   "execution_count": null,
   "metadata": {},
   "outputs": [],
   "source": [
    "# Run the animation.\n",
    "anim()"
   ]
  }
 ],
 "metadata": {
  "kernelspec": {
   "display_name": "Python 3",
   "language": "python",
   "name": "python3"
  },
  "language_info": {
   "codemirror_mode": {
    "name": "ipython",
    "version": 3
   },
   "file_extension": ".py",
   "mimetype": "text/x-python",
   "name": "python",
   "nbconvert_exporter": "python",
   "pygments_lexer": "ipython3",
   "version": "3.7.1"
  }
 },
 "nbformat": 4,
 "nbformat_minor": 2
}
